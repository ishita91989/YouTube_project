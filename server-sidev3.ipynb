{
 "cells": [
  {
   "cell_type": "code",
   "execution_count": 7,
   "metadata": {},
   "outputs": [
    {
     "name": "stdout",
     "output_type": "stream",
     "text": [
      "Global model created and saved as 'global_model.pth'\n"
     ]
    }
   ],
   "source": [
    "import torch\n",
    "import torch.nn as nn\n",
    "import torchvision.models as models\n",
    "\n",
    "class InceptionV3Model(nn.Module):\n",
    "    def __init__(self):\n",
    "        super(InceptionV3Model, self).__init__()\n",
    "        # Load the pre-trained Inception V3 model\n",
    "        self.model = models.inception_v3(pretrained=True)\n",
    "        \n",
    "        # Freeze all the parameters in the feature extraction layers\n",
    "        for param in self.model.parameters():\n",
    "            param.requires_grad = False\n",
    "        \n",
    "        # Replace the classifier part of Inception V3\n",
    "        num_features = self.model.fc.in_features\n",
    "        self.model.fc = nn.Linear(num_features, 1)  # Adapted for binary classification\n",
    "\n",
    "    def forward(self, x):\n",
    "        # Inception V3's forward method may return auxiliary outputs\n",
    "        # when training, which we do not need during inference\n",
    "        if self.model.training:\n",
    "            x, _ = self.model(x)\n",
    "        else:\n",
    "            x = self.model(x)\n",
    "        return torch.sigmoid(x)\n",
    "\n",
    "# Initialize the global model\n",
    "global_model = InceptionV3Model()\n",
    "\n",
    "# Save the global model\n",
    "torch.save(global_model.state_dict(), 'global_model.pth')\n",
    "print(\"Global model created and saved as 'global_model.pth'\")\n"
   ]
  }
 ],
 "metadata": {
  "kernelspec": {
   "display_name": "venv",
   "language": "python",
   "name": "python3"
  },
  "language_info": {
   "codemirror_mode": {
    "name": "ipython",
    "version": 3
   },
   "file_extension": ".py",
   "mimetype": "text/x-python",
   "name": "python",
   "nbconvert_exporter": "python",
   "pygments_lexer": "ipython3",
   "version": "3.11.5"
  }
 },
 "nbformat": 4,
 "nbformat_minor": 2
}
