{
 "cells": [
  {
   "cell_type": "code",
   "execution_count": 27,
   "metadata": {},
   "outputs": [
    {
     "name": "stdout",
     "output_type": "stream",
     "text": [
      "Local model trained and saved as 'local_model.pth'\n"
     ]
    }
   ],
   "source": [
    "import torch\n",
    "import torch.nn as nn\n",
    "import torch.optim as optim\n",
    "from torchvision import datasets, transforms, models\n",
    "from torch.utils.data import DataLoader\n",
    "\n",
    "# Define the model structure using Inception V3\n",
    "class InceptionV3Model(nn.Module):\n",
    "    def __init__(self):\n",
    "        super(InceptionV3Model, self).__init__()\n",
    "        # Load pre-trained Inception V3 model\n",
    "        inception_v3 = models.inception_v3(pretrained=True)\n",
    "        \n",
    "        # Freeze all the parameters in the feature extraction layers\n",
    "        for param in inception_v3.parameters():\n",
    "            param.requires_grad = False\n",
    "\n",
    "        # Replace the classifier part of Inception V3\n",
    "        num_features = inception_v3.fc.in_features\n",
    "        inception_v3.fc = nn.Linear(num_features, 1)  # Binary classification\n",
    "\n",
    "        self.model = inception_v3\n",
    "\n",
    "    def forward(self, x):\n",
    "        # Inception V3's forward method may return auxiliary outputs\n",
    "        # when training, which we do not need during inference\n",
    "        if self.model.training:\n",
    "            x, _ = self.model(x)\n",
    "        else:\n",
    "            x = self.model(x)\n",
    "        return x\n",
    "\n",
    "# Load the global model\n",
    "local_model = InceptionV3Model()\n",
    "local_model.load_state_dict(torch.load('global_model.pth'))\n",
    "\n",
    "# Define the data transformations\n",
    "transform = transforms.Compose([\n",
    "    transforms.Resize((299, 299)),  # Update size for Inception V3\n",
    "    transforms.ToTensor(),\n",
    "    transforms.Normalize([0.485, 0.456, 0.406], [0.229, 0.224, 0.225])  # Standard normalization for ImageNet\n",
    "])\n",
    "\n",
    "# Load the local dataset\n",
    "train_data = datasets.ImageFolder('screenshots/', transform=transform)\n",
    "train_loader = DataLoader(train_data, batch_size=32, shuffle=True)\n",
    "\n",
    "# Define the loss and optimizer\n",
    "criterion = nn.BCEWithLogitsLoss()  # Use BCEWithLogitsLoss\n",
    "optimizer = optim.Adam(local_model.parameters(), lr=0.001)\n",
    "\n",
    "# Train the model locally\n",
    "local_model.train()\n",
    "for epoch in range(5):  # Local training for 5 epochs\n",
    "    for images, labels in train_loader:\n",
    "        optimizer.zero_grad()\n",
    "        outputs = local_model(images)\n",
    "        loss = criterion(outputs, labels.float().unsqueeze(1))\n",
    "        loss.backward()\n",
    "        optimizer.step()\n",
    "\n",
    "# Save the updated local model\n",
    "torch.save(local_model.state_dict(), 'local_model.pth')\n",
    "\n",
    "print(\"Local model trained and saved as 'local_model.pth'\")"
   ]
  }
 ],
 "metadata": {
  "kernelspec": {
   "display_name": "venv",
   "language": "python",
   "name": "python3"
  },
  "language_info": {
   "codemirror_mode": {
    "name": "ipython",
    "version": 3
   },
   "file_extension": ".py",
   "mimetype": "text/x-python",
   "name": "python",
   "nbconvert_exporter": "python",
   "pygments_lexer": "ipython3",
   "version": "3.11.5"
  }
 },
 "nbformat": 4,
 "nbformat_minor": 2
}
