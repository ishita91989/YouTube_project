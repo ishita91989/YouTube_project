{
 "cells": [
  {
   "cell_type": "code",
   "execution_count": 17,
   "metadata": {},
   "outputs": [
    {
     "name": "stdout",
     "output_type": "stream",
     "text": [
      "Global model updated and saved as 'global_model.pth'\n"
     ]
    }
   ],
   "source": [
    "import torch\n",
    "import torch.nn as nn\n",
    "import torchvision.models as models\n",
    "\n",
    "# Define the Inception V3 Model structure\n",
    "class InceptionV3Model(nn.Module):\n",
    "    def __init__(self):\n",
    "        super(InceptionV3Model, self).__init__()\n",
    "        self.model = models.inception_v3(pretrained=True)\n",
    "        for param in self.model.parameters():\n",
    "            param.requires_grad = False\n",
    "        num_features = self.model.fc.in_features\n",
    "        self.model.fc = nn.Linear(num_features, 1)  # Adapted for binary classification\n",
    "\n",
    "    def forward(self, x):\n",
    "        if self.model.training:\n",
    "            x, _ = self.model(x)  # Handle auxiliary outputs during training\n",
    "        else:\n",
    "            x = self.model(x)\n",
    "        return torch.sigmoid(x)\n",
    "\n",
    "# Initialize the global model\n",
    "global_model = InceptionV3Model()\n",
    "\n",
    "local_model_paths = ['local_model.pth'] \n",
    "local_models = [InceptionV3Model() for _ in local_model_paths]\n",
    "\n",
    "# Load the state dicts for each local model\n",
    "for i, model in enumerate(local_models):\n",
    "    model.load_state_dict(torch.load(local_model_paths[i]))\n",
    "\n",
    "# Initialize a state dict to accumulate the average of the local models\n",
    "global_dict = global_model.state_dict()\n",
    "for k in global_dict.keys():\n",
    "    tensors = [local_models[i].state_dict()[k].float() for i in range(len(local_models))]\n",
    "    global_dict[k] = torch.stack(tensors, 0).mean(0)\n",
    "\n",
    "# Load the new global model state\n",
    "global_model.load_state_dict(global_dict)\n",
    "\n",
    "# Save the updated global model\n",
    "torch.save(global_model.state_dict(), 'global_model.pth')\n",
    "print(\"Global model updated and saved as 'global_model.pth'\")\n"
   ]
  }
 ],
 "metadata": {
  "kernelspec": {
   "display_name": "venv",
   "language": "python",
   "name": "python3"
  },
  "language_info": {
   "codemirror_mode": {
    "name": "ipython",
    "version": 3
   },
   "file_extension": ".py",
   "mimetype": "text/x-python",
   "name": "python",
   "nbconvert_exporter": "python",
   "pygments_lexer": "ipython3",
   "version": "3.11.5"
  }
 },
 "nbformat": 4,
 "nbformat_minor": 2
}
